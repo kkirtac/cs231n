{
 "cells": [
  {
   "cell_type": "markdown",
   "metadata": {},
   "source": [
    "# Softmax exercise\n",
    "\n",
    "*Complete and hand in this completed worksheet (including its outputs and any supporting code outside of the worksheet) with your assignment submission. For more details see the [assignments page](http://vision.stanford.edu/teaching/cs231n/assignments.html) on the course website.*\n",
    "\n",
    "This exercise is analogous to the SVM exercise. You will:\n",
    "\n",
    "- implement a fully-vectorized **loss function** for the Softmax classifier\n",
    "- implement the fully-vectorized expression for its **analytic gradient**\n",
    "- **check your implementation** with numerical gradient\n",
    "- use a validation set to **tune the learning rate and regularization** strength\n",
    "- **optimize** the loss function with **SGD**\n",
    "- **visualize** the final learned weights\n"
   ]
  },
  {
   "cell_type": "code",
   "execution_count": 1,
   "metadata": {
    "collapsed": false
   },
   "outputs": [
    {
     "name": "stderr",
     "output_type": "stream",
     "text": [
      "/home/sinem/anaconda2/lib/python2.7/site-packages/matplotlib/font_manager.py:273: UserWarning: Matplotlib is building the font cache using fc-list. This may take a moment.\n",
      "  warnings.warn('Matplotlib is building the font cache using fc-list. This may take a moment.')\n"
     ]
    }
   ],
   "source": [
    "import random\n",
    "import numpy as np\n",
    "from cs231n.data_utils import load_CIFAR10\n",
    "import matplotlib.pyplot as plt\n",
    "%matplotlib inline\n",
    "plt.rcParams['figure.figsize'] = (10.0, 8.0) # set default size of plots\n",
    "plt.rcParams['image.interpolation'] = 'nearest'\n",
    "plt.rcParams['image.cmap'] = 'gray'\n",
    "\n",
    "# for auto-reloading extenrnal modules\n",
    "# see http://stackoverflow.com/questions/1907993/autoreload-of-modules-in-ipython\n",
    "%load_ext autoreload\n",
    "%autoreload 2"
   ]
  },
  {
   "cell_type": "code",
   "execution_count": 2,
   "metadata": {
    "collapsed": false
   },
   "outputs": [
    {
     "name": "stdout",
     "output_type": "stream",
     "text": [
      "Train data shape:  (49000, 3073)\n",
      "Train labels shape:  (49000,)\n",
      "Validation data shape:  (1000, 3073)\n",
      "Validation labels shape:  (1000,)\n",
      "Test data shape:  (1000, 3073)\n",
      "Test labels shape:  (1000,)\n",
      "dev data shape:  (500, 3073)\n",
      "dev labels shape:  (500,)\n"
     ]
    }
   ],
   "source": [
    "def get_CIFAR10_data(num_training=49000, num_validation=1000, num_test=1000, num_dev=500):\n",
    "  \"\"\"\n",
    "  Load the CIFAR-10 dataset from disk and perform preprocessing to prepare\n",
    "  it for the linear classifier. These are the same steps as we used for the\n",
    "  SVM, but condensed to a single function.  \n",
    "  \"\"\"\n",
    "  # Load the raw CIFAR-10 data\n",
    "  cifar10_dir = 'cs231n/datasets/cifar-10-batches-py'\n",
    "  X_train, y_train, X_test, y_test = load_CIFAR10(cifar10_dir)\n",
    "  \n",
    "  # subsample the data\n",
    "  mask = range(num_training, num_training + num_validation)\n",
    "  X_val = X_train[mask]\n",
    "  y_val = y_train[mask]\n",
    "  mask = range(num_training)\n",
    "  X_train = X_train[mask]\n",
    "  y_train = y_train[mask]\n",
    "  mask = range(num_test)\n",
    "  X_test = X_test[mask]\n",
    "  y_test = y_test[mask]\n",
    "  mask = np.random.choice(num_training, num_dev, replace=False)\n",
    "  X_dev = X_train[mask]\n",
    "  y_dev = y_train[mask]\n",
    "  \n",
    "  # Preprocessing: reshape the image data into rows\n",
    "  X_train = np.reshape(X_train, (X_train.shape[0], -1))\n",
    "  X_val = np.reshape(X_val, (X_val.shape[0], -1))\n",
    "  X_test = np.reshape(X_test, (X_test.shape[0], -1))\n",
    "  X_dev = np.reshape(X_dev, (X_dev.shape[0], -1))\n",
    "  \n",
    "  # Normalize the data: subtract the mean image\n",
    "  mean_image = np.mean(X_train, axis = 0)\n",
    "  X_train -= mean_image\n",
    "  X_val -= mean_image\n",
    "  X_test -= mean_image\n",
    "  X_dev -= mean_image\n",
    "  \n",
    "  # add bias dimension and transform into columns\n",
    "  X_train = np.hstack([X_train, np.ones((X_train.shape[0], 1))])\n",
    "  X_val = np.hstack([X_val, np.ones((X_val.shape[0], 1))])\n",
    "  X_test = np.hstack([X_test, np.ones((X_test.shape[0], 1))])\n",
    "  X_dev = np.hstack([X_dev, np.ones((X_dev.shape[0], 1))])\n",
    "  \n",
    "  return X_train, y_train, X_val, y_val, X_test, y_test, X_dev, y_dev\n",
    "\n",
    "\n",
    "# Invoke the above function to get our data.\n",
    "X_train, y_train, X_val, y_val, X_test, y_test, X_dev, y_dev = get_CIFAR10_data()\n",
    "print 'Train data shape: ', X_train.shape\n",
    "print 'Train labels shape: ', y_train.shape\n",
    "print 'Validation data shape: ', X_val.shape\n",
    "print 'Validation labels shape: ', y_val.shape\n",
    "print 'Test data shape: ', X_test.shape\n",
    "print 'Test labels shape: ', y_test.shape\n",
    "print 'dev data shape: ', X_dev.shape\n",
    "print 'dev labels shape: ', y_dev.shape"
   ]
  },
  {
   "cell_type": "markdown",
   "metadata": {},
   "source": [
    "## Softmax Classifier\n",
    "\n",
    "Your code for this section will all be written inside **cs231n/classifiers/softmax.py**. \n"
   ]
  },
  {
   "cell_type": "code",
   "execution_count": 3,
   "metadata": {
    "collapsed": false
   },
   "outputs": [
    {
     "name": "stdout",
     "output_type": "stream",
     "text": [
      "loss: 2.347810\n",
      "sanity check: 2.302585\n"
     ]
    }
   ],
   "source": [
    "# First implement the naive softmax loss function with nested loops.\n",
    "# Open the file cs231n/classifiers/softmax.py and implement the\n",
    "# softmax_loss_naive function.\n",
    "\n",
    "from cs231n.classifiers.softmax import softmax_loss_naive\n",
    "import time\n",
    "\n",
    "# Generate a random softmax weight matrix and use it to compute the loss.\n",
    "W = np.random.randn(3073, 10) * 0.0001\n",
    "loss, grad = softmax_loss_naive(W, X_dev, y_dev, 0.0)\n",
    "\n",
    "# As a rough sanity check, our loss should be something close to -log(0.1).\n",
    "print 'loss: %f' % loss\n",
    "print 'sanity check: %f' % (-np.log(0.1))"
   ]
  },
  {
   "cell_type": "markdown",
   "metadata": {},
   "source": [
    "## Inline Question 1:\n",
    "Why do we expect our loss to be close to -log(0.1)? Explain briefly.**\n",
    "\n",
    "**Your answer:** As we randomly initialize the W matrix, we can think that our initial probabilities for each class will be the same: 0.1. Since the cross-entropy loss calculates the loss as -log(prob) for the correct class, and zero for other classes, the loss sums to -log(0.1).\n"
   ]
  },
  {
   "cell_type": "code",
   "execution_count": 4,
   "metadata": {
    "collapsed": false
   },
   "outputs": [
    {
     "name": "stdout",
     "output_type": "stream",
     "text": [
      "numerical: 5.003767 analytic: 5.003767, relative error: 4.604294e-09\n",
      "numerical: 3.122976 analytic: 3.122976, relative error: 8.426889e-09\n",
      "numerical: -1.594891 analytic: -1.594891, relative error: 6.732369e-09\n",
      "numerical: -0.685570 analytic: -0.685571, relative error: 4.249400e-08\n",
      "numerical: 1.413122 analytic: 1.413122, relative error: 1.437988e-08\n",
      "numerical: 2.590335 analytic: 2.590335, relative error: 2.833632e-08\n",
      "numerical: -0.091401 analytic: -0.091401, relative error: 3.866352e-07\n",
      "numerical: 0.690437 analytic: 0.690437, relative error: 2.053769e-08\n",
      "numerical: 0.148860 analytic: 0.148860, relative error: 2.589267e-07\n",
      "numerical: 2.199896 analytic: 2.199896, relative error: 8.439227e-09\n",
      "numerical: 1.011730 analytic: 1.011730, relative error: 2.801067e-08\n",
      "numerical: -0.993513 analytic: -0.993513, relative error: 5.763603e-08\n",
      "numerical: 0.860113 analytic: 0.860113, relative error: 5.268107e-08\n",
      "numerical: -6.829016 analytic: -6.829016, relative error: 9.596852e-09\n",
      "numerical: 0.966042 analytic: 0.966042, relative error: 4.984845e-08\n",
      "numerical: -0.309406 analytic: -0.309406, relative error: 1.187890e-07\n",
      "numerical: -3.627640 analytic: -3.627640, relative error: 1.399113e-08\n",
      "numerical: -0.274314 analytic: -0.274314, relative error: 1.325129e-07\n",
      "numerical: 1.040513 analytic: 1.040513, relative error: 2.768942e-08\n",
      "numerical: -2.387096 analytic: -2.387096, relative error: 1.130875e-08\n"
     ]
    }
   ],
   "source": [
    "# Complete the implementation of softmax_loss_naive and implement a (naive)\n",
    "# version of the gradient that uses nested loops.\n",
    "loss, grad = softmax_loss_naive(W, X_dev, y_dev, 0.0)\n",
    "\n",
    "# As we did for the SVM, use numeric gradient checking as a debugging tool.\n",
    "# The numeric gradient should be close to the analytic gradient.\n",
    "from cs231n.gradient_check import grad_check_sparse\n",
    "f = lambda w: softmax_loss_naive(w, X_dev, y_dev, 0.0)[0]\n",
    "grad_numerical = grad_check_sparse(f, W, grad, 10)\n",
    "\n",
    "# similar to SVM case, do another gradient check with regularization\n",
    "loss, grad = softmax_loss_naive(W, X_dev, y_dev, 1e2)\n",
    "f = lambda w: softmax_loss_naive(w, X_dev, y_dev, 1e2)[0]\n",
    "grad_numerical = grad_check_sparse(f, W, grad, 10)"
   ]
  },
  {
   "cell_type": "code",
   "execution_count": 5,
   "metadata": {
    "collapsed": false
   },
   "outputs": [
    {
     "name": "stdout",
     "output_type": "stream",
     "text": [
      "naive loss: 2.347810e+00 computed in 0.103318s\n",
      "vectorized loss: 2.347810e+00 computed in 0.073686s\n",
      "Loss difference: 0.000000\n",
      "Gradient difference: 0.000000\n"
     ]
    }
   ],
   "source": [
    "# Now that we have a naive implementation of the softmax loss function and its gradient,\n",
    "# implement a vectorized version in softmax_loss_vectorized.\n",
    "# The two versions should compute the same results, but the vectorized version should be\n",
    "# much faster.\n",
    "tic = time.time()\n",
    "loss_naive, grad_naive = softmax_loss_naive(W, X_dev, y_dev, 0.00001)\n",
    "toc = time.time()\n",
    "print 'naive loss: %e computed in %fs' % (loss_naive, toc - tic)\n",
    "\n",
    "from cs231n.classifiers.softmax import softmax_loss_vectorized\n",
    "tic = time.time()\n",
    "loss_vectorized, grad_vectorized = softmax_loss_vectorized(W, X_dev, y_dev, 0.00001)\n",
    "toc = time.time()\n",
    "print 'vectorized loss: %e computed in %fs' % (loss_vectorized, toc - tic)\n",
    "\n",
    "# As we did for the SVM, we use the Frobenius norm to compare the two versions\n",
    "# of the gradient.\n",
    "grad_difference = np.linalg.norm(grad_naive - grad_vectorized, ord='fro')\n",
    "print 'Loss difference: %f' % np.abs(loss_naive - loss_vectorized)\n",
    "print 'Gradient difference: %f' % grad_difference"
   ]
  },
  {
   "cell_type": "code",
   "execution_count": 6,
   "metadata": {
    "collapsed": false
   },
   "outputs": [
    {
     "name": "stderr",
     "output_type": "stream",
     "text": [
      "cs231n/classifiers/softmax.py:108: RuntimeWarning: divide by zero encountered in log\n",
      "  loss += - np.sum( yy * np.log( p ) )\n",
      "cs231n/classifiers/softmax.py:108: RuntimeWarning: invalid value encountered in multiply\n",
      "  loss += - np.sum( yy * np.log( p ) )\n",
      "cs231n/classifiers/softmax.py:115: RuntimeWarning: overflow encountered in double_scalars\n",
      "  loss += 0.5 * reg * np.sum(W * W)\n",
      "cs231n/classifiers/softmax.py:115: RuntimeWarning: overflow encountered in multiply\n",
      "  loss += 0.5 * reg * np.sum(W * W)\n",
      "cs231n/classifiers/softmax.py:121: RuntimeWarning: overflow encountered in multiply\n",
      "  dW += reg*W\n"
     ]
    },
    {
     "name": "stdout",
     "output_type": "stream",
     "text": [
      "1e-07 10.0 (0.17740816326530612,) (0.183,)\n",
      "1e-07 50.0 (0.17004081632653062,) (0.187,)\n",
      "1e-07 100.0 (0.15653061224489795,) (0.155,)\n",
      "1e-07 500.0 (0.16965306122448981,) (0.17599999999999999,)\n",
      "1e-07 1000.0 (0.16385714285714287,) (0.16,)\n",
      "1e-07 5000.0 (0.14712244897959184,) (0.16900000000000001,)\n",
      "1e-07 10000.0 (0.18061224489795918,) (0.184,)\n",
      "1e-07 50000.0 (0.20381632653061224,) (0.19700000000000001,)\n",
      "1e-07 100000.0 (0.25624489795918365,) (0.26000000000000001,)\n",
      "1e-07 500000.0 (0.27410204081632655,) (0.28399999999999997,)\n",
      "1e-07 1000000.0 (0.24963265306122448,) (0.26000000000000001,)\n",
      "1e-07 5000000.0 (0.23416326530612244,) (0.248,)\n",
      "5e-07 10.0 (0.23324489795918368,) (0.23999999999999999,)\n",
      "5e-07 50.0 (0.22157142857142856,) (0.21099999999999999,)\n",
      "5e-07 100.0 (0.23648979591836736,) (0.24099999999999999,)\n",
      "5e-07 500.0 (0.23138775510204082,) (0.23599999999999999,)\n",
      "5e-07 1000.0 (0.24151020408163265,) (0.248,)\n",
      "5e-07 5000.0 (0.26044897959183672,) (0.27000000000000002,)\n",
      "5e-07 10000.0 (0.28520408163265304,) (0.30399999999999999,)\n",
      "5e-07 50000.0 (0.328734693877551,) (0.34300000000000003,)\n",
      "5e-07 100000.0 (0.31326530612244896,) (0.32800000000000001,)\n",
      "5e-07 500000.0 (0.25148979591836734,) (0.26600000000000001,)\n",
      "5e-07 1000000.0 (0.27202040816326528,) (0.27300000000000002,)\n",
      "5e-07 5000000.0 (0.092326530612244898,) (0.090999999999999998,)\n",
      "1e-05 10.0 (0.28542857142857142,) (0.26900000000000002,)\n",
      "1e-05 50.0 (0.31957142857142856,) (0.32500000000000001,)\n",
      "1e-05 100.0 (0.30912244897959185,) (0.29199999999999998,)\n",
      "1e-05 500.0 (0.27408163265306124,) (0.26100000000000001,)\n",
      "1e-05 1000.0 (0.26775510204081632,) (0.26800000000000002,)\n",
      "1e-05 5000.0 (0.27353061224489794,) (0.28899999999999998,)\n",
      "1e-05 10000.0 (0.20006122448979591,) (0.20200000000000001,)\n",
      "1e-05 50000.0 (0.12065306122448979,) (0.11700000000000001,)\n",
      "1e-05 100000.0 (0.068816326530612246,) (0.070999999999999994,)\n",
      "1e-05 500000.0 (0.096530612244897965,) (0.081000000000000003,)\n",
      "1e-05 1000000.0 (0.085163265306122449,) (0.088999999999999996,)\n",
      "1e-05 5000000.0 (0.10026530612244898,) (0.086999999999999994,)\n",
      "5e-05 10.0 (0.28144897959183673,) (0.27800000000000002,)\n",
      "5e-05 50.0 (0.2416938775510204,) (0.23400000000000001,)\n",
      "5e-05 100.0 (0.26540816326530614,) (0.252,)\n",
      "5e-05 500.0 (0.2106326530612245,) (0.20399999999999999,)\n",
      "5e-05 1000.0 (0.22683673469387755,) (0.23200000000000001,)\n",
      "5e-05 5000.0 (0.14830612244897959,) (0.14000000000000001,)\n",
      "5e-05 10000.0 (0.14338775510204083,) (0.126,)\n",
      "5e-05 50000.0 (0.054918367346938779,) (0.040000000000000001,)\n",
      "5e-05 100000.0 (0.05689795918367347,) (0.058999999999999997,)\n",
      "5e-05 500000.0 (0.069408163265306119,) (0.073999999999999996,)\n",
      "5e-05 1000000.0 (0.10026530612244898,) (0.086999999999999994,)\n",
      "5e-05 5000000.0 (0.10026530612244898,) (0.086999999999999994,)\n",
      "0.001 10.0 (0.25904081632653059,) (0.26200000000000001,)\n",
      "0.001 50.0 (0.20346938775510204,) (0.21299999999999999,)\n",
      "0.001 100.0 (0.1876938775510204,) (0.17399999999999999,)\n",
      "0.001 500.0 (0.10506122448979592,) (0.11,)\n",
      "0.001 1000.0 (0.10993877551020408,) (0.12,)\n",
      "0.001 5000.0 (0.071755102040816324,) (0.070000000000000007,)\n",
      "0.001 10000.0 (0.082632653061224484,) (0.089999999999999997,)\n",
      "0.001 50000.0 (0.10026530612244898,) (0.086999999999999994,)\n",
      "0.001 100000.0 (0.10026530612244898,) (0.086999999999999994,)\n",
      "0.001 500000.0 (0.10026530612244898,) (0.086999999999999994,)\n",
      "0.001 1000000.0 (0.10026530612244898,) (0.086999999999999994,)\n",
      "0.001 5000000.0 (0.10026530612244898,) (0.086999999999999994,)\n",
      "0.005 10.0 (0.1929591836734694,) (0.19900000000000001,)\n",
      "0.005 50.0 (0.11789795918367348,) (0.109,)\n",
      "0.005 100.0 (0.10216326530612245,) (0.096000000000000002,)\n",
      "0.005 500.0 (0.10442857142857143,) (0.124,)\n",
      "0.005 1000.0 (0.060897959183673467,) (0.056000000000000001,)\n",
      "0.005 5000.0 (0.074428571428571427,) (0.075999999999999998,)\n",
      "0.005 10000.0 (0.10026530612244898,) (0.086999999999999994,)\n",
      "0.005 50000.0 (0.10026530612244898,) (0.086999999999999994,)\n",
      "0.005 100000.0 (0.10026530612244898,) (0.086999999999999994,)\n",
      "0.005 500000.0 (0.10026530612244898,) (0.086999999999999994,)\n",
      "0.005 1000000.0 (0.10026530612244898,) (0.086999999999999994,)\n",
      "0.005 5000000.0 (0.10026530612244898,) (0.086999999999999994,)\n",
      "0.1 10.0 (0.063,) (0.057000000000000002,)\n",
      "0.1 50.0 (0.10406122448979592,) (0.11600000000000001,)\n",
      "0.1 100.0 (0.088857142857142857,) (0.086999999999999994,)\n",
      "0.1 500.0 (0.10026530612244898,) (0.086999999999999994,)\n",
      "0.1 1000.0 (0.10026530612244898,) (0.086999999999999994,)\n",
      "0.1 5000.0 (0.10026530612244898,) (0.086999999999999994,)\n",
      "0.1 10000.0 (0.10026530612244898,) (0.086999999999999994,)\n",
      "0.1 50000.0 (0.10026530612244898,) (0.086999999999999994,)\n",
      "0.1 100000.0 (0.10026530612244898,) (0.086999999999999994,)\n",
      "0.1 500000.0 (0.10026530612244898,) (0.086999999999999994,)\n",
      "0.1 1000000.0 (0.10026530612244898,) (0.086999999999999994,)\n",
      "0.1 5000000.0 (0.10026530612244898,) (0.086999999999999994,)\n",
      "0.5 10.0 (0.07173469387755102,) (0.087999999999999995,)\n",
      "0.5 50.0 (0.039040816326530614,) (0.045999999999999999,)\n",
      "0.5 100.0 (0.10026530612244898,) (0.086999999999999994,)\n",
      "0.5 500.0 (0.10026530612244898,) (0.086999999999999994,)\n",
      "0.5 1000.0 (0.10026530612244898,) (0.086999999999999994,)\n",
      "0.5 5000.0 (0.10026530612244898,) (0.086999999999999994,)\n",
      "0.5 10000.0 (0.10026530612244898,) (0.086999999999999994,)\n",
      "0.5 50000.0 (0.10026530612244898,) (0.086999999999999994,)\n",
      "0.5 100000.0 (0.10026530612244898,) (0.086999999999999994,)\n",
      "0.5 500000.0 (0.10026530612244898,) (0.086999999999999994,)\n",
      "0.5 1000000.0 (0.10026530612244898,) (0.086999999999999994,)\n",
      "0.5 5000000.0 (0.10026530612244898,) (0.086999999999999994,)\n",
      "best validation accuracy achieved during cross-validation: 0.343000\n"
     ]
    },
    {
     "name": "stderr",
     "output_type": "stream",
     "text": [
      "cs231n/classifiers/softmax.py:102: RuntimeWarning: overflow encountered in subtract\n",
      "  f -= np.amax(f,axis=1).reshape(num_train,1)   #regularization to avoid numeric instability\n",
      "cs231n/classifiers/softmax.py:102: RuntimeWarning: invalid value encountered in subtract\n",
      "  f -= np.amax(f,axis=1).reshape(num_train,1)   #regularization to avoid numeric instability\n"
     ]
    }
   ],
   "source": [
    "# Use the validation set to tune hyperparameters (regularization strength and\n",
    "# learning rate). You should experiment with different ranges for the learning\n",
    "# rates and regularization strengths; if you are careful you should be able to\n",
    "# get a classification accuracy of over 0.35 on the validation set.\n",
    "from cs231n.classifiers import Softmax\n",
    "results = {}\n",
    "best_val = -1\n",
    "best_softmax = None\n",
    "learning_rates = [1e-7, 5e-7, 1e-5, 5e-5, 1e-3, 5e-3, 1e-1, 5e-1]\n",
    "regularization_strengths = [1e1, 5e1, 1e2, 5e2, 1e3, 5e3, 1e4, 5e4, 1e5, 5e5, 1e6, 5e6]\n",
    "\n",
    "################################################################################\n",
    "# TODO:                                                                        #\n",
    "# Use the validation set to set the learning rate and regularization strength. #\n",
    "# This should be identical to the validation that you did for the SVM; save    #\n",
    "# the best trained softmax classifer in best_softmax.                          #\n",
    "################################################################################\n",
    "\n",
    "for lr in learning_rates:\n",
    "  for reg in regularization_strengths:\n",
    "    softmax = Softmax()\n",
    "    softmax.train(X_train, y_train, lr, reg, 200, 400)\n",
    "    y_train_pred = softmax.predict(X_train)\n",
    "    training_accuracy = (np.mean(y_train == y_train_pred), )\n",
    "    #print 'training accuracy: %f' % training_accuracy \n",
    "    y_val_pred = softmax.predict(X_val)\n",
    "    validation_accuracy = (np.mean(y_val == y_val_pred), )\n",
    "    #print 'validation accuracy: %f' % validation_accuracy\n",
    "    \n",
    "    results[(lr, reg)] = (training_accuracy, validation_accuracy)\n",
    "    if validation_accuracy > best_val:\n",
    "        best_val = validation_accuracy\n",
    "        best_softmax = softmax\n",
    "        \n",
    "pass\n",
    "################################################################################\n",
    "#                              END OF YOUR CODE                                #\n",
    "################################################################################\n",
    "    \n",
    "# Print out results.\n",
    "for lr, reg in sorted(results):\n",
    "    train_accuracy, val_accuracy = results[(lr, reg)]\n",
    "    print lr, reg, train_accuracy, val_accuracy\n",
    "    #print 'lr %e reg %e train accuracy: %f val accuracy: %f' % ( lr, reg, train_accuracy, val_accuracy)\n",
    "    \n",
    "print 'best validation accuracy achieved during cross-validation: %f' % best_val"
   ]
  },
  {
   "cell_type": "code",
   "execution_count": 7,
   "metadata": {
    "collapsed": false
   },
   "outputs": [
    {
     "name": "stdout",
     "output_type": "stream",
     "text": [
      "softmax on raw pixels final test set accuracy: 0.336000\n"
     ]
    }
   ],
   "source": [
    "# evaluate on test set\n",
    "# Evaluate the best softmax on test set\n",
    "y_test_pred = best_softmax.predict(X_test)\n",
    "test_accuracy = np.mean(y_test == y_test_pred)\n",
    "print 'softmax on raw pixels final test set accuracy: %f' % (test_accuracy, )"
   ]
  },
  {
   "cell_type": "code",
   "execution_count": 8,
   "metadata": {
    "collapsed": false
   },
   "outputs": [
    {
     "data": {
      "image/png": "[encoded data removed]",
      "text/plain": [
       "<matplotlib.figure.Figure at 0x7f9858323790>"
      ]
     },
     "metadata": {},
     "output_type": "display_data"
    }
   ],
   "source": [
    "# Visualize the learned weights for each class\n",
    "w = best_softmax.W[:-1,:] # strip out the bias\n",
    "w = w.reshape(32, 32, 3, 10)\n",
    "\n",
    "w_min, w_max = np.min(w), np.max(w)\n",
    "\n",
    "classes = ['plane', 'car', 'bird', 'cat', 'deer', 'dog', 'frog', 'horse', 'ship', 'truck']\n",
    "for i in xrange(10):\n",
    "  plt.subplot(2, 5, i + 1)\n",
    "  \n",
    "  # Rescale the weights to be between 0 and 255\n",
    "  wimg = 255.0 * (w[:, :, :, i].squeeze() - w_min) / (w_max - w_min)\n",
    "  plt.imshow(wimg.astype('uint8'))\n",
    "  plt.axis('off')\n",
    "  plt.title(classes[i])"
   ]
  }
 ],
 "metadata": {
  "kernelspec": {
   "display_name": "Python 2",
   "language": "python",
   "name": "python2"
  },
  "language_info": {
   "codemirror_mode": {
    "name": "ipython",
    "version": 2
   },
   "file_extension": ".py",
   "mimetype": "text/x-python",
   "name": "python",
   "nbconvert_exporter": "python",
   "pygments_lexer": "ipython2",
   "version": "2.7.11"
  }
 },
 "nbformat": 4,
 "nbformat_minor": 0
}
